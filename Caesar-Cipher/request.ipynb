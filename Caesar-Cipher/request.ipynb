{
 "cells": [
  {
   "cell_type": "code",
   "execution_count": 1,
   "metadata": {},
   "outputs": [],
   "source": [
    "# Imports\n",
    "import requests\n",
    "import json\n",
    "import hashlib"
   ]
  },
  {
   "cell_type": "code",
   "execution_count": 8,
   "metadata": {},
   "outputs": [],
   "source": [
    "# Requests com a url disponibilizada e com o token do seu perfil\n",
    "token = 'Seu_token'\n",
    "params = {'token' : token}\n",
    "url = 'https://api.codenation.dev/v1/challenge/dev-ps/generate-data'\n",
    "re = requests.get(url, params=params)\n",
    "codenationa_data = json.loads(re.content)"
   ]
  },
  {
   "cell_type": "code",
   "execution_count": 9,
   "metadata": {},
   "outputs": [],
   "source": [
    "# Criando um arquivo Json\n",
    "with open('answer.json', 'w', encoding='utf-8') as f:\n",
    "    json.dump(codenationa_data, f, ensure_ascii=False, indent=4)"
   ]
  },
  {
   "cell_type": "code",
   "execution_count": 18,
   "metadata": {},
   "outputs": [],
   "source": [
    "# codenationa_data"
   ]
  },
  {
   "cell_type": "code",
   "execution_count": 11,
   "metadata": {},
   "outputs": [],
   "source": [
    "# Cryptography of Julius Caesar\n",
    "\n",
    "def encrypt(text, shift):\n",
    "    return ''.join([char if char in ' ,.' else chr((ord(char) + shift - 97) % 26 + 97) for char in text.lower()])\n",
    "\n",
    "def decrypt(text, shift):\n",
    "    return ''.join([char if char in ' ,.' else chr((ord(char) - shift - 97) % 26 + 97) for char in text.lower()])\n",
    "\n",
    "decrypted = decrypt(codenationa_data['cifrado'], codenationa_data['numero_casas'])"
   ]
  },
  {
   "cell_type": "code",
   "execution_count": 12,
   "metadata": {},
   "outputs": [],
   "source": [
    "hashed = hashlib.sha1(decrypted.encode())"
   ]
  },
  {
   "cell_type": "code",
   "execution_count": 13,
   "metadata": {},
   "outputs": [],
   "source": [
    "codenationa_data['decifrado'] = decrypted\n",
    "codenationa_data['resumo_criptografico'] = hashed.hexdigest()"
   ]
  },
  {
   "cell_type": "code",
   "execution_count": 19,
   "metadata": {},
   "outputs": [],
   "source": [
    "# codenationa_data"
   ]
  },
  {
   "cell_type": "code",
   "execution_count": 15,
   "metadata": {},
   "outputs": [],
   "source": [
    "with open('answer.json', 'w', encoding='utf-8') as f:\n",
    "    json.dump(codenationa_data, f, ensure_ascii=False, indent=4)"
   ]
  },
  {
   "cell_type": "code",
   "execution_count": 16,
   "metadata": {},
   "outputs": [
    {
     "data": {
      "text/plain": [
       "200"
      ]
     },
     "execution_count": 16,
     "metadata": {},
     "output_type": "execute_result"
    }
   ],
   "source": [
    "# Requisição por método POST conforme solicitado para submeter o código para revisão\n",
    "token = 'Seu_token'\n",
    "params = {'token' : token}\n",
    "url2 = 'https://api.codenation.dev/v1/challenge/dev-ps/submit-solution'\n",
    "answer = {'answer': open('answer.json', 'rb')}\n",
    "re2 = requests.post(url2, files=answer, params=params)\n",
    "re2.status_code"
   ]
  },
  {
   "cell_type": "code",
   "execution_count": 17,
   "metadata": {},
   "outputs": [
    {
     "data": {
      "text/plain": [
       "'{\"score\":100}\\n'"
      ]
     },
     "execution_count": 17,
     "metadata": {},
     "output_type": "execute_result"
    }
   ],
   "source": [
    "re2.text"
   ]
  },
  {
   "cell_type": "code",
   "execution_count": null,
   "metadata": {},
   "outputs": [],
   "source": []
  }
 ],
 "metadata": {
  "kernelspec": {
   "display_name": "Python 3",
   "language": "python",
   "name": "python3"
  },
  "language_info": {
   "codemirror_mode": {
    "name": "ipython",
    "version": 3
   },
   "file_extension": ".py",
   "mimetype": "text/x-python",
   "name": "python",
   "nbconvert_exporter": "python",
   "pygments_lexer": "ipython3",
   "version": "3.7.4"
  }
 },
 "nbformat": 4,
 "nbformat_minor": 2
}
